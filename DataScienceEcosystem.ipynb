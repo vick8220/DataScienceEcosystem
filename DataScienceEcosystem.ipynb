{
 "cells": [
  {
   "cell_type": "markdown",
   "id": "20fa4273",
   "metadata": {},
   "source": [
    "# Data Science Tools and Ecosystem"
   ]
  },
  {
   "cell_type": "markdown",
   "id": "de1a73c6",
   "metadata": {},
   "source": [
    "Jupyter Notebooks are a community standard for communicating and performing interactive computing."
   ]
  },
  {
   "cell_type": "markdown",
   "id": "d22b2b48",
   "metadata": {},
   "source": [
    "Objectives:\n",
    " - Scala\n",
    " - Python\n",
    " - Rstudio"
   ]
  },
  {
   "cell_type": "markdown",
   "id": "6351ef92",
   "metadata": {},
   "source": [
    "Some of the popular languages data scientists use are:\n",
    "\n",
    "    1. Python\n",
    "    2. R\n",
    "    3. Scala\n",
    "    4. Matlab"
   ]
  },
  {
   "cell_type": "markdown",
   "id": "850c1986",
   "metadata": {},
   "source": [
    "Some of the commonly used libraraies by data scientists include:\n",
    "\n",
    "    1. Numpy\n",
    "    2. Pandas\n",
    "    3. Scikit-learn\n",
    "    4. Matplotlib\n",
    "    5. Seaborn"
   ]
  },
  {
   "cell_type": "markdown",
   "id": "35d8d154",
   "metadata": {},
   "source": [
    "|Data Science Tools|\n",
    ":--:\n",
    "RStudio\n",
    "ApacheSpark\n",
    "Tensorflow"
   ]
  },
  {
   "cell_type": "markdown",
   "id": "2f40d185",
   "metadata": {},
   "source": [
    "### Below are a few examples of evaluating aritn=hmetic expressions in python"
   ]
  },
  {
   "cell_type": "code",
   "execution_count": 1,
   "id": "05d11b7b",
   "metadata": {},
   "outputs": [
    {
     "data": {
      "text/plain": [
       "17"
      ]
     },
     "execution_count": 1,
     "metadata": {},
     "output_type": "execute_result"
    }
   ],
   "source": [
    "(3*4)+5\n",
    "# This is a simple arithmetic expression to multiply then add integers"
   ]
  },
  {
   "cell_type": "code",
   "execution_count": 2,
   "id": "4510a502",
   "metadata": {},
   "outputs": [
    {
     "data": {
      "text/plain": [
       "3.3333333333333335"
      ]
     },
     "execution_count": 2,
     "metadata": {},
     "output_type": "execute_result"
    }
   ],
   "source": [
    "# This will convert 200 minutes to hours by dividing by 60\n",
    "minutes=200\n",
    "hours=200/60\n",
    "hours"
   ]
  },
  {
   "cell_type": "markdown",
   "id": "ff811234",
   "metadata": {},
   "source": [
    "## Author\n",
    "Vicknesh Raj"
   ]
  },
  {
   "cell_type": "code",
   "execution_count": null,
   "id": "fa044b64",
   "metadata": {},
   "outputs": [],
   "source": []
  }
 ],
 "metadata": {
  "kernelspec": {
   "display_name": "Python 3 (ipykernel)",
   "language": "python",
   "name": "python3"
  },
  "language_info": {
   "codemirror_mode": {
    "name": "ipython",
    "version": 3
   },
   "file_extension": ".py",
   "mimetype": "text/x-python",
   "name": "python",
   "nbconvert_exporter": "python",
   "pygments_lexer": "ipython3",
   "version": "3.10.9"
  }
 },
 "nbformat": 4,
 "nbformat_minor": 5
}
